{
 "cells": [
  {
   "cell_type": "code",
   "execution_count": 196,
   "metadata": {},
   "outputs": [],
   "source": [
    "import pandas as pd\n",
    "import numpy as py"
   ]
  },
  {
   "cell_type": "code",
   "execution_count": 294,
   "metadata": {},
   "outputs": [],
   "source": [
    "fama=pd.read_csv('Thesis/LongShortPerformance/Fama.csv')\n",
    "benchmark=pd.read_csv('Thesis/RiskAdjReturn.csv')\n",
    "xgb=pd.read_csv('proba_XG.csv')\n",
    "rf=pd.read_csv('proba_RF.csv')\n",
    "lr=pd.read_csv('proba_LR.csv')\n",
    "#ann=pd.read_csv('Thesis/proba_ANN.csv')"
   ]
  },
  {
   "cell_type": "code",
   "execution_count": 296,
   "metadata": {},
   "outputs": [],
   "source": [
    "benchmark=benchmark.iloc[259:-195,:]#216-general trimmming, 240 volatility trimming,247 7 days pred trimming, 499 predic"
   ]
  },
  {
   "cell_type": "code",
   "execution_count": 297,
   "metadata": {},
   "outputs": [],
   "source": [
    "benchmark=benchmark.iloc[:,1:].astype(float)"
   ]
  },
  {
   "cell_type": "code",
   "execution_count": 133,
   "metadata": {},
   "outputs": [],
   "source": [
    "ANN_bm=benchmark.iloc[252:,:].copy()"
   ]
  },
  {
   "cell_type": "code",
   "execution_count": 298,
   "metadata": {},
   "outputs": [],
   "source": [
    "xgb=xgb.iloc[:,1:].dropna()\n",
    "rf=rf.iloc[:,1:].dropna()\n",
    "lr=lr.iloc[:,1:].dropna()\n",
    "#ann=ann.iloc[:,1:].dropna()"
   ]
  },
  {
   "cell_type": "code",
   "execution_count": null,
   "metadata": {},
   "outputs": [],
   "source": [
    "date=pd.to_datetime(benchmark['Date'])\n",
    "date_ANN=pd.to_datetime(ANN_bm['Date'])"
   ]
  },
  {
   "cell_type": "code",
   "execution_count": 299,
   "metadata": {},
   "outputs": [],
   "source": [
    "RF=[]\n",
    "XGB=[]\n",
    "LR=[]\n",
    "ANN=[]\n",
    "for i in range(93):\n",
    "    XGB.append(py.concatenate(py.array(xgb.iloc[:,42*i:42*(i+1)]),axis=None))\n",
    "    RF.append(py.concatenate(py.array(rf.iloc[:,42*i:42*(i+1)]),axis=None))\n",
    "    LR.append(py.concatenate(py.array(lr.iloc[:,42*i:42*(i+1)]),axis=None))\n",
    "    #ANN.append(py.concatenate(py.array(ann.iloc[:,42*i:42*(i+1)]),axis=None))"
   ]
  },
  {
   "cell_type": "code",
   "execution_count": 300,
   "metadata": {},
   "outputs": [
    {
     "name": "stderr",
     "output_type": "stream",
     "text": [
      "C:\\Users\\jamie\\anaconda3\\lib\\site-packages\\numpy\\core\\_asarray.py:136: VisibleDeprecationWarning: Creating an ndarray from ragged nested sequences (which is a list-or-tuple of lists-or-tuples-or ndarrays with different lengths or shapes) is deprecated. If you meant to do this, you must specify 'dtype=object' when creating the ndarray\n",
      "  return array(a, dtype, copy=False, order=order, subok=True)\n"
     ]
    }
   ],
   "source": [
    "RF=pd.DataFrame(RF).astype(float).T\n",
    "XGB=pd.DataFrame(XGB).astype(float).T\n",
    "LR=pd.DataFrame(LR).astype(float).T\n",
    "Combined=pd.DataFrame(py.mean([RF,XGB,SVM],axis=0)).astype(float).T\n",
    "ANN=pd.DataFrame(ANN)"
   ]
  },
  {
   "cell_type": "code",
   "execution_count": 312,
   "metadata": {},
   "outputs": [],
   "source": [
    "def long_short_ret(model,benchmark): \n",
    "    ret_day=[]\n",
    "    for i in range(model.shape[0]):\n",
    "        stock_ret_day=[]\n",
    "        for j in range(model.shape[1]):\n",
    "            if model.iloc[i,j] > py.percentile(model.iloc[i,:],90):\n",
    "                stock_ret_day.append(benchmark.iloc[i,j])\n",
    "            #elif model.iloc[i,j] <= py.percentile(model.iloc[i,:],5):\n",
    "               # stock_ret_day.append(-benchmark.iloc[i,j])\n",
    "            else:\n",
    "                pass\n",
    "        ret_day.append(py.sum(stock_ret_day))\n",
    "    return py.mean(ret_day),ret_day,py.cumsum(ret_day)"
   ]
  },
  {
   "cell_type": "code",
   "execution_count": 313,
   "metadata": {},
   "outputs": [],
   "source": [
    "RF_mean,RF_ret_day,RF_cumsum=long_short_ret(RF,benchmark)\n",
    "XG_mean,XG_ret_day,XG_cumsum=long_short_ret(XGB,benchmark)\n",
    "LR_mean,LR_ret_day,LR_cumsum=long_short_ret(LR,benchmark)\n",
    "Comb_mean,Comb_ret_day,Comb_cumsum=long_short_ret(Combined,benchmark)\n",
    "#ANN_mean,ANN_ret_day,ANN_cumsum=long_short_ret(ANN,ANN_bm)"
   ]
  },
  {
   "cell_type": "code",
   "execution_count": 318,
   "metadata": {},
   "outputs": [
    {
     "data": {
      "text/plain": [
       "array([0., 0., 0., 0., 0., 0., 0., 0., 0., 0., 0., 0., 0., 0., 0., 0., 0.,\n",
       "       0., 0., 0., 0., 0., 0., 0., 0., 0., 0., 0., 0., 0., 0., 0., 0., 0.,\n",
       "       0., 0., 0., 0., 0., 0., 0., 0., 0., 0., 0., 0., 0., 0., 0., 0., 0.,\n",
       "       0., 0., 0., 0., 0., 0., 0., 0., 0., 0., 0., 0., 0., 0., 0., 0., 0.,\n",
       "       0., 0., 0., 0., 0., 0., 0., 0., 0., 0., 0., 0., 0., 0., 0., 0., 0.,\n",
       "       0., 0., 0., 0., 0., 0., 0., 0.])"
      ]
     },
     "execution_count": 318,
     "metadata": {},
     "output_type": "execute_result"
    }
   ],
   "source": [
    "Comb_cumsum"
   ]
  },
  {
   "cell_type": "markdown",
   "metadata": {},
   "source": [
    "Fama-French Regression"
   ]
  },
  {
   "cell_type": "code",
   "execution_count": 125,
   "metadata": {},
   "outputs": [],
   "source": [
    "import statsmodels.api as sm"
   ]
  },
  {
   "cell_type": "code",
   "execution_count": 152,
   "metadata": {},
   "outputs": [],
   "source": [
    "fama.iloc[:,1:]=fama.iloc[:,1:]\n",
    "fama['Date']=pd.to_datetime(fama['Date'])"
   ]
  },
  {
   "cell_type": "code",
   "execution_count": 175,
   "metadata": {
    "scrolled": true
   },
   "outputs": [
    {
     "data": {
      "text/html": [
       "<table class=\"simpletable\">\n",
       "<caption>OLS Regression Results</caption>\n",
       "<tr>\n",
       "  <th>Dep. Variable:</th>            <td>y</td>        <th>  R-squared (uncentered):</th>      <td>   0.003</td>\n",
       "</tr>\n",
       "<tr>\n",
       "  <th>Model:</th>                   <td>OLS</td>       <th>  Adj. R-squared (uncentered):</th> <td>   0.001</td>\n",
       "</tr>\n",
       "<tr>\n",
       "  <th>Method:</th>             <td>Least Squares</td>  <th>  F-statistic:       </th>          <td>   1.791</td>\n",
       "</tr>\n",
       "<tr>\n",
       "  <th>Date:</th>             <td>Sun, 24 Oct 2021</td> <th>  Prob (F-statistic):</th>           <td> 0.111</td> \n",
       "</tr>\n",
       "<tr>\n",
       "  <th>Time:</th>                 <td>16:08:09</td>     <th>  Log-Likelihood:    </th>          <td>  1291.3</td>\n",
       "</tr>\n",
       "<tr>\n",
       "  <th>No. Observations:</th>      <td>  3024</td>      <th>  AIC:               </th>          <td>  -2573.</td>\n",
       "</tr>\n",
       "<tr>\n",
       "  <th>Df Residuals:</th>          <td>  3019</td>      <th>  BIC:               </th>          <td>  -2542.</td>\n",
       "</tr>\n",
       "<tr>\n",
       "  <th>Df Model:</th>              <td>     5</td>      <th>                     </th>              <td> </td>   \n",
       "</tr>\n",
       "<tr>\n",
       "  <th>Covariance Type:</th>      <td>nonrobust</td>    <th>                     </th>              <td> </td>   \n",
       "</tr>\n",
       "</table>\n",
       "<table class=\"simpletable\">\n",
       "<tr>\n",
       "     <td></td>       <th>coef</th>     <th>std err</th>      <th>t</th>      <th>P>|t|</th>  <th>[0.025</th>    <th>0.975]</th>  \n",
       "</tr>\n",
       "<tr>\n",
       "  <th>Mkt-RF</th> <td>   -0.6797</td> <td>    0.380</td> <td>   -1.788</td> <td> 0.074</td> <td>   -1.425</td> <td>    0.066</td>\n",
       "</tr>\n",
       "<tr>\n",
       "  <th>SMB</th>    <td>    0.0673</td> <td>    0.810</td> <td>    0.083</td> <td> 0.934</td> <td>   -1.520</td> <td>    1.655</td>\n",
       "</tr>\n",
       "<tr>\n",
       "  <th>HML</th>    <td>    1.0995</td> <td>    0.932</td> <td>    1.180</td> <td> 0.238</td> <td>   -0.728</td> <td>    2.927</td>\n",
       "</tr>\n",
       "<tr>\n",
       "  <th>RMW</th>    <td>    0.9085</td> <td>    1.392</td> <td>    0.653</td> <td> 0.514</td> <td>   -1.821</td> <td>    3.638</td>\n",
       "</tr>\n",
       "<tr>\n",
       "  <th>CMA</th>    <td>   -3.5795</td> <td>    1.391</td> <td>   -2.573</td> <td> 0.010</td> <td>   -6.307</td> <td>   -0.852</td>\n",
       "</tr>\n",
       "</table>\n",
       "<table class=\"simpletable\">\n",
       "<tr>\n",
       "  <th>Omnibus:</th>       <td>184.949</td> <th>  Durbin-Watson:     </th> <td>   2.011</td> \n",
       "</tr>\n",
       "<tr>\n",
       "  <th>Prob(Omnibus):</th> <td> 0.000</td>  <th>  Jarque-Bera (JB):  </th> <td> 654.198</td> \n",
       "</tr>\n",
       "<tr>\n",
       "  <th>Skew:</th>          <td> 0.216</td>  <th>  Prob(JB):          </th> <td>8.77e-143</td>\n",
       "</tr>\n",
       "<tr>\n",
       "  <th>Kurtosis:</th>      <td> 5.237</td>  <th>  Cond. No.          </th> <td>    5.92</td> \n",
       "</tr>\n",
       "</table><br/><br/>Notes:<br/>[1] R² is computed without centering (uncentered) since the model does not contain a constant.<br/>[2] Standard Errors assume that the covariance matrix of the errors is correctly specified."
      ],
      "text/plain": [
       "<class 'statsmodels.iolib.summary.Summary'>\n",
       "\"\"\"\n",
       "                                 OLS Regression Results                                \n",
       "=======================================================================================\n",
       "Dep. Variable:                      y   R-squared (uncentered):                   0.003\n",
       "Model:                            OLS   Adj. R-squared (uncentered):              0.001\n",
       "Method:                 Least Squares   F-statistic:                              1.791\n",
       "Date:                Sun, 24 Oct 2021   Prob (F-statistic):                       0.111\n",
       "Time:                        16:08:09   Log-Likelihood:                          1291.3\n",
       "No. Observations:                3024   AIC:                                     -2573.\n",
       "Df Residuals:                    3019   BIC:                                     -2542.\n",
       "Df Model:                           5                                                  \n",
       "Covariance Type:            nonrobust                                                  \n",
       "==============================================================================\n",
       "                 coef    std err          t      P>|t|      [0.025      0.975]\n",
       "------------------------------------------------------------------------------\n",
       "Mkt-RF        -0.6797      0.380     -1.788      0.074      -1.425       0.066\n",
       "SMB            0.0673      0.810      0.083      0.934      -1.520       1.655\n",
       "HML            1.0995      0.932      1.180      0.238      -0.728       2.927\n",
       "RMW            0.9085      1.392      0.653      0.514      -1.821       3.638\n",
       "CMA           -3.5795      1.391     -2.573      0.010      -6.307      -0.852\n",
       "==============================================================================\n",
       "Omnibus:                      184.949   Durbin-Watson:                   2.011\n",
       "Prob(Omnibus):                  0.000   Jarque-Bera (JB):              654.198\n",
       "Skew:                           0.216   Prob(JB):                    8.77e-143\n",
       "Kurtosis:                       5.237   Cond. No.                         5.92\n",
       "==============================================================================\n",
       "\n",
       "Notes:\n",
       "[1] R² is computed without centering (uncentered) since the model does not contain a constant.\n",
       "[2] Standard Errors assume that the covariance matrix of the errors is correctly specified.\n",
       "\"\"\""
      ]
     },
     "execution_count": 175,
     "metadata": {},
     "output_type": "execute_result"
    }
   ],
   "source": [
    "def fama_regression(ret,date):\n",
    "    X=pd.merge(pd.DataFrame(ret,date),fama,on='Date').iloc[:,2:7]\n",
    "    X_sm=sm.add_constant(X)\n",
    "    model=sm.OLS(ret,X_sm)\n",
    "    results=model.fit()\n",
    "    return results.summary()"
   ]
  },
  {
   "cell_type": "code",
   "execution_count": null,
   "metadata": {},
   "outputs": [],
   "source": []
  }
 ],
 "metadata": {
  "kernelspec": {
   "display_name": "Python 3",
   "language": "python",
   "name": "python3"
  },
  "language_info": {
   "codemirror_mode": {
    "name": "ipython",
    "version": 3
   },
   "file_extension": ".py",
   "mimetype": "text/x-python",
   "name": "python",
   "nbconvert_exporter": "python",
   "pygments_lexer": "ipython3",
   "version": "3.8.5"
  }
 },
 "nbformat": 4,
 "nbformat_minor": 4
}
