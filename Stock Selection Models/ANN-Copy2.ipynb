{
 "cells": [
  {
   "cell_type": "code",
   "execution_count": 1,
   "metadata": {},
   "outputs": [],
   "source": [
    "from keras.wrappers.scikit_learn import KerasClassifier\n",
    "from keras.models import Sequential\n",
    "from keras.layers import Dense,Activation\n",
    "from keras.layers import LeakyReLU,PReLU,ELU\n",
    "from keras.layers import Dropout\n",
    "import pandas as pd\n",
    "import numpy as py\n",
    "from sklearn.preprocessing import StandardScaler\n",
    "from sklearn.metrics import roc_auc_score,log_loss,accuracy_score,precision_score,recall_score,f1_score"
   ]
  },
  {
   "cell_type": "code",
   "execution_count": 2,
   "metadata": {},
   "outputs": [],
   "source": [
    "xgb=pd.read_csv('proba_XG1.csv')\n",
    "rf=pd.read_csv('proba_RF1.csv')\n",
    "sv=pd.read_csv('proba_LR1.csv')\n",
    "#to=pd.read_csv('to (4).csv')\n",
    "perf=pd.read_csv('Thesis/Performance1.csv')# Performance CHANGE make sure when import there is an additional 7 days from the beginning for test results\n",
    "xgb=xgb.iloc[:,1:].dropna()\n",
    "rf=rf.iloc[:,1:].dropna()\n",
    "sv=sv.iloc[:,1:].dropna()\n",
    "y_r=perf.iloc[252:,1:].dropna()"
   ]
  },
  {
   "cell_type": "code",
   "execution_count": 3,
   "metadata": {},
   "outputs": [],
   "source": [
    "RF=[]\n",
    "XGB=[]\n",
    "SVM=[]\n",
    "X_r=[]\n",
    "for i in range(93):\n",
    "    XGB.append(py.concatenate(py.array(xgb.iloc[:,42*i:42*(i+1)]),axis=None))\n",
    "    RF.append(py.concatenate(py.array(rf.iloc[:,42*i:42*(i+1)]),axis=None))\n",
    "    SVM.append(py.concatenate(py.array(sv.iloc[:,42*i:42*(i+1)]),axis=None))\n",
    "    X_r.append(pd.DataFrame([XGB[i],RF[i],SVM[i]]).T)"
   ]
  },
  {
   "cell_type": "code",
   "execution_count": 4,
   "metadata": {},
   "outputs": [],
   "source": [
    "# Split Recent Training- WALK FORWARD\n",
    "# Might need to slice data for the slack- update later\n",
    "def split_X_y_ticker(j):\n",
    "    for i in range(84):\n",
    "        #Split train,test\n",
    "        X=X_r[j].iloc[42*i:252+42*(i+1),:]\n",
    "        y=py.array(y_r.iloc[42*i:252+42*(i+1),j])\n",
    "        scale=StandardScaler()\n",
    "        X=scale.fit_transform(X)\n",
    "        X_tr=X[:-42]\n",
    "        y_tr=y[:-42]\n",
    "        X_t=X[-42:]\n",
    "        y_t=y[-42:]\n",
    "        #Split train,val\n",
    "        X_train=[]\n",
    "        X_val=[]\n",
    "        y_train=[]\n",
    "        y_val=[]\n",
    "        for a in range(3):\n",
    "            X_train.append(X_tr[:126+42*(a)])#Variables to be change then change shape \n",
    "            y_train.append(y_tr[:126+42*(a)])\n",
    "            X_val.append(X_tr[126+42*(a):126+42*(a+1)])\n",
    "            y_val.append(y_tr[126+42*(a):126+42*(a+1)])\n",
    "        y_t=y_t\n",
    "        X_t=X_t\n",
    "        yield X_train,X_val,y_train,y_val,y_t,X_t,X_tr,y_tr"
   ]
  },
  {
   "cell_type": "code",
   "execution_count": 5,
   "metadata": {},
   "outputs": [],
   "source": [
    "def compile_for_cross_sectional_learning():\n",
    "    X_train=[]\n",
    "    X_val=[]\n",
    "    y_train=[]\n",
    "    y_val=[]\n",
    "    y_t=[]\n",
    "    X_t=[]\n",
    "    X_tr=[]\n",
    "    y_tr=[]\n",
    "    for i in range(93):\n",
    "        X_train_tick=[]\n",
    "        X_val_tick=[]\n",
    "        y_train_tick=[]\n",
    "        y_val_tick=[]\n",
    "        y_t_tick=[]\n",
    "        X_t_tick=[]\n",
    "        X_tr_tick=[]\n",
    "        y_tr_tick=[]\n",
    "        a=split_X_y_ticker(i)\n",
    "        for X_train_slide,X_val_slide,y_train_slide,y_val_slide,y_t_slide,X_t_slide,X_tr_slide,y_tr_slide in a:\n",
    "            X_train_tick.append(X_train_slide)\n",
    "            X_val_tick.append(X_val_slide)\n",
    "            y_train_tick.append(y_train_slide)\n",
    "            y_val_tick.append(y_val_slide)\n",
    "            y_t_tick.append(y_t_slide)\n",
    "            X_t_tick.append(X_t_slide)\n",
    "            X_tr_tick.append(X_tr_slide)\n",
    "            y_tr_tick.append(y_tr_slide)\n",
    "        X_train.append(X_train_tick)\n",
    "        X_val.append(X_val_tick)\n",
    "        y_train.append(y_train_tick)\n",
    "        y_val.append(y_val_tick)\n",
    "        y_t.append(y_t_tick)\n",
    "        X_t.append(X_t_tick)\n",
    "        X_tr.append(X_tr_tick)\n",
    "        y_tr.append(y_tr_tick)\n",
    "    X_train=py.stack([X_train[i] for i in range(93)],axis=-1)\n",
    "    y_train=py.stack([y_train[i] for i in range(93)],axis=-1)\n",
    "    X_val=py.stack([X_val[i] for i in range(93)],axis=-1)\n",
    "    y_val=py.stack([y_val[i] for i in range(93)],axis=-1)\n",
    "    X_t=py.stack([X_t[i] for i in range(93)],axis=-1)\n",
    "    y_t=py.stack([y_t[i] for i in range(93)],axis=-1)\n",
    "    X_tr=py.stack([X_tr[i] for i in range(93)],axis=-1)\n",
    "    y_tr=py.stack([y_tr[i] for i in range(93)],axis=-1)\n",
    "    return X_train,X_val,y_train,y_val,y_t,X_t,X_tr,y_tr"
   ]
  },
  {
   "cell_type": "code",
   "execution_count": 6,
   "metadata": {},
   "outputs": [],
   "source": [
    "def walk_forward_val(model):#model already defined\n",
    "    Mean_Score_SV=[]\n",
    "    prec=[]\n",
    "    recall=[]\n",
    "    f1=[]\n",
    "    X_train_r,X_val_r,y_train_r,y_val_r,y_t_r,X_t_r,X_tr_r,y_tr_r=compile_for_cross_sectional_learning()\n",
    "    for j in range(len(X_train_r)):\n",
    "        for i in range(len(X_train_r[0])):\n",
    "            X_train=py.concatenate(X_train_r[j][i])\n",
    "            y_train=py.concatenate(y_train_r[j][i])\n",
    "            X_val=X_val_r[j][i].reshape(-1,3)\n",
    "            y_val=y_val_r[j][i].reshape(-1,)\n",
    "            model.fit(X_train,y_train,epochs=30,verbose=0)\n",
    "            y_pred_val=model.predict(X_val)\n",
    "            Mean_Score_SV.append(accuracy_score(y_val,y_pred_val))\n",
    "            prec.append(precision_score(y_val,y_pred_val)) \n",
    "            recall.append(recall_score(y_val,y_pred_val)) #Specificity\n",
    "            f1.append(f1_score(y_val,y_pred_val))\n",
    "    print(py.mean(Mean_Score_SV))\n",
    "    print(' ')\n",
    "    print(py.mean(prec))\n",
    "    print(' ')\n",
    "    print(py.mean(recall))\n",
    "    print(' ')\n",
    "    print(py.mean(f1))\n",
    "    return py.mean(Mean_Score_SV),py.mean(prec),py.mean(recall),py.mean(f1)"
   ]
  },
  {
   "cell_type": "code",
   "execution_count": 7,
   "metadata": {},
   "outputs": [],
   "source": [
    "def ANN_construction(layers,activation):\n",
    "    model = Sequential()\n",
    "    for i, nodes in enumerate(layers):\n",
    "        if i==0:\n",
    "            model.add(Dense(nodes,input_dim=3))\n",
    "            model.add(Activation(activation))\n",
    "            model.add(Dropout(0.1))\n",
    "        else:\n",
    "            model.add(Dense(nodes))\n",
    "            model.add(Activation(activation))\n",
    "            model.add(Dropout(0.1))\n",
    "            \n",
    "    model.add(Dense(units = 1, kernel_initializer= 'glorot_uniform', activation = 'sigmoid')) \n",
    "    model.compile(optimizer='adam', loss='binary_crossentropy',metrics=['accuracy'])\n",
    "    return model  "
   ]
  },
  {
   "cell_type": "code",
   "execution_count": 8,
   "metadata": {},
   "outputs": [],
   "source": [
    "def ANN_grid_tuning(params):\n",
    "    best_score=0\n",
    "    for param in params :\n",
    "        model=ANN_construction(param[0],param[1])\n",
    "        mod=KerasClassifier(build_fn= lambda: model,verbose=0)\n",
    "        acc,prec,recall, f1= walk_forward_val(mod)\n",
    "        if acc > best_score:\n",
    "            best_score=acc\n",
    "            sensi=recall\n",
    "            preci=prec\n",
    "            best_param=param\n",
    "    return best_score,sensi,preci,best_param"
   ]
  },
  {
   "cell_type": "code",
   "execution_count": 10,
   "metadata": {},
   "outputs": [],
   "source": [
    "def ANN_stacked_predict(param):\n",
    "    acc=[]\n",
    "    y_pred_all=[]\n",
    "    model=ANN_construction(param[0],param[1])\n",
    "    mod=KerasClassifier(build_fn=lambda:model,verbose=0)\n",
    "    X_train_r,X_val_r,y_train_r,y_val_r,y_t_r,X_t_r,X_tr_r,y_tr_r=compile_for_cross_sectional_learning()\n",
    "    for i in range(len(X_train_r)):\n",
    "        X_t=X_t_r[i].reshape(-1,3)\n",
    "        y_t=y_t_r[i].reshape(-1,)\n",
    "        X_tr=X_tr_r[i].reshape(-1,3)\n",
    "        y_tr=y_tr_r[i].reshape(-1,)\n",
    "        mod.fit(X_tr,y_tr,epochs=100,verbose=0)\n",
    "        y_pred=mod.predict_proba(X_t)\n",
    "        y_score=mod.predict(X_t)\n",
    "        y_pred_all.append(y_pred[:,-1])\n",
    "        acc.append(accuracy_score(y_t,y_score))\n",
    "    return y_pred_all,acc"
   ]
  },
  {
   "cell_type": "code",
   "execution_count": 11,
   "metadata": {},
   "outputs": [],
   "source": [
    "paramsANN=[[[32],'relu'],\n",
    "           [[25],'sigmoid'],\n",
    "           [[32,16],'relu'],\n",
    "           [[12],'sigmoid']]"
   ]
  },
  {
   "cell_type": "code",
   "execution_count": 12,
   "metadata": {},
   "outputs": [],
   "source": [
    "import warnings\n",
    "warnings.filterwarnings('ignore')"
   ]
  },
  {
   "cell_type": "code",
   "execution_count": null,
   "metadata": {
    "scrolled": false
   },
   "outputs": [],
   "source": [
    "best_score,sensi,preci,best_param=ANN_grid_tuning(paramsANN)"
   ]
  },
  {
   "cell_type": "code",
   "execution_count": null,
   "metadata": {},
   "outputs": [],
   "source": [
    "print(best_score,preci,sensi,best_param)"
   ]
  },
  {
   "cell_type": "code",
   "execution_count": 15,
   "metadata": {},
   "outputs": [],
   "source": [
    "y_pred_all,log=ANN_stacked_predict(paramsANN[0])"
   ]
  },
  {
   "cell_type": "code",
   "execution_count": 17,
   "metadata": {},
   "outputs": [],
   "source": [
    "pd.DataFrame(log).to_csv('1ANN_acc.csv')"
   ]
  }
 ],
 "metadata": {
  "kernelspec": {
   "display_name": "Python 3",
   "language": "python",
   "name": "python3"
  },
  "language_info": {
   "codemirror_mode": {
    "name": "ipython",
    "version": 3
   },
   "file_extension": ".py",
   "mimetype": "text/x-python",
   "name": "python",
   "nbconvert_exporter": "python",
   "pygments_lexer": "ipython3",
   "version": "3.8.5"
  }
 },
 "nbformat": 4,
 "nbformat_minor": 4
}
