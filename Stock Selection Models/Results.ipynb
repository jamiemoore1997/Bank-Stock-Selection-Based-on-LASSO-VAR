{
 "cells": [
  {
   "cell_type": "code",
   "execution_count": null,
   "metadata": {},
   "outputs": [],
   "source": [
    "import pandas as pd\n",
    "import numpy as py"
   ]
  },
  {
   "cell_type": "code",
   "execution_count": null,
   "metadata": {},
   "outputs": [],
   "source": [
    "fama3=pd.read_csv('Fama.csv')\n",
    "benchmark=pd.read_csv('Risk Adj Return.csv')\n",
    "xgb=pd.read_csv('proba/proba_XG2.csv')\n",
    "rf=pd.read_csv('proba/proba_RF2.csv')\n",
    "lr=pd.read_csv('proba/proba_LR2.csv')\n",
    "ann=pd.read_csv('proba/proba_ANN2.csv')"
   ]
  },
  {
   "cell_type": "code",
   "execution_count": null,
   "metadata": {},
   "outputs": [],
   "source": [
    "benchmark=benchmark.iloc[453:-197,:]#216-general trimmming, 240 volatility trimming,247 7 days pred trimming, 499 predic"
   ]
  },
  {
   "cell_type": "code",
   "execution_count": null,
   "metadata": {},
   "outputs": [],
   "source": [
    "date=pd.to_datetime(benchmark['Date'],format='%d/%m/%Y')\n",
    "date_ANN=pd.to_datetime(benchmark['Date'])[252:]"
   ]
  },
  {
   "cell_type": "markdown",
   "metadata": {},
   "source": [
    "1. Check Date for Results"
   ]
  },
  {
   "cell_type": "code",
   "execution_count": null,
   "metadata": {},
   "outputs": [],
   "source": [
    "a=[]\n",
    "for i in range(90):\n",
    "    a.append(date[252*i:252*(i+1)])"
   ]
  },
  {
   "cell_type": "markdown",
   "metadata": {},
   "source": [
    "2. "
   ]
  },
  {
   "cell_type": "code",
   "execution_count": null,
   "metadata": {},
   "outputs": [],
   "source": [
    "benchmark=benchmark.iloc[:,1:].astype(float)"
   ]
  },
  {
   "cell_type": "code",
   "execution_count": null,
   "metadata": {},
   "outputs": [],
   "source": [
    "ANN_bm=benchmark.iloc[252:,:].copy()"
   ]
  },
  {
   "cell_type": "code",
   "execution_count": null,
   "metadata": {},
   "outputs": [],
   "source": [
    "xgb=xgb.iloc[:,1:].dropna()\n",
    "rf=rf.iloc[:,1:].dropna()\n",
    "lr=lr.iloc[:,1:].dropna()\n",
    "ann=ann.iloc[:,1:].dropna()"
   ]
  },
  {
   "cell_type": "code",
   "execution_count": null,
   "metadata": {},
   "outputs": [],
   "source": [
    "RF=[]\n",
    "XGB=[]\n",
    "LR=[]\n",
    "ANN=[]\n",
    "for i in range(93):\n",
    "    XGB.append(py.concatenate(py.array(xgb.iloc[:,42*i:42*(i+1)]),axis=None))\n",
    "    RF.append(py.concatenate(py.array(rf.iloc[:,42*i:42*(i+1)]),axis=None))\n",
    "    LR.append(py.concatenate(py.array(lr.iloc[:,42*i:42*(i+1)]),axis=None))\n",
    "    ANN.append(py.concatenate(py.array(ann.iloc[:,42*i:42*(i+1)]),axis=None))"
   ]
  },
  {
   "cell_type": "code",
   "execution_count": null,
   "metadata": {},
   "outputs": [],
   "source": [
    "RF=pd.DataFrame(RF).astype(float).T\n",
    "XGB=pd.DataFrame(XGB).astype(float).T\n",
    "LR=pd.DataFrame(LR).astype(float).T\n",
    "Combined=(RF+XGB+LR)/3\n",
    "ANN=pd.DataFrame(ANN).astype(float).T"
   ]
  },
  {
   "cell_type": "markdown",
   "metadata": {},
   "source": [
    "1. Prediction Visualization "
   ]
  },
  {
   "cell_type": "code",
   "execution_count": null,
   "metadata": {},
   "outputs": [],
   "source": [
    "correl=pd.DataFrame(list(zip(py.concatenate(RF.to_numpy()),py.concatenate(XGB.to_numpy()),py.concatenate(LR.to_numpy()))))\n",
    "correl.corr()"
   ]
  },
  {
   "cell_type": "code",
   "execution_count": null,
   "metadata": {
    "scrolled": true
   },
   "outputs": [],
   "source": [
    "import seaborn as sns \n",
    "import matplotlib.pyplot as pl\n",
    "kwargs=dict(kde_kws={'linewidth':2})\n",
    "a=pd.DataFrame(list(zip(py.concatenate(RF.to_numpy()),py.concatenate(XGB.to_numpy()),py.concatenate(LR.to_numpy()))))\n",
    "pl.figure(figsize=(10,7),dpi=80)\n",
    "\n",
    "sns.displot(a.iloc[:,0],color=\"dodgerblue\",label=\"RF\",**kwargs)\n",
    "sns.displot(a.iloc[:,1],color=\"orange\",label=\"XGB\",**kwargs)\n",
    "sns.displot(a.iloc[:,2],color=\"deeppink\",label=\"LR\",**kwargs)\n",
    "sns.displot(py.concatenate(ANN.to_numpy()),color=\"black\",label=\"ANN\",**kwargs)\n",
    "#sns.displot(py.concatenate(Combined.to_numpy()),color=\"deeppink\",label=\"Combined\",**kwargs)\n",
    "\n",
    "pl.show()"
   ]
  },
  {
   "cell_type": "markdown",
   "metadata": {},
   "source": [
    "2. Portfolio"
   ]
  },
  {
   "cell_type": "code",
   "execution_count": null,
   "metadata": {},
   "outputs": [],
   "source": [
    "def long_short_ret(model,benchmark): \n",
    "    ret_day=[]\n",
    "    for i in range(model.shape[0]):\n",
    "        stock_ret_day=[]\n",
    "        for j in range(model.shape[1]):\n",
    "            if model.iloc[i,j] >= py.percentile(model.iloc[i,:],90):\n",
    "                stock_ret_day.append(benchmark.iloc[i,j])\n",
    "            #elif model.iloc[i,j] <= py.percentile(model.iloc[i,:],):\n",
    "             #   stock_ret_day.append(-benchmark.iloc[i,j])\n",
    "            else:\n",
    "                pass\n",
    "        ret_day.append(py.sum(stock_ret_day))\n",
    "    return py.mean(ret_day),ret_day,py.cumsum(ret_day)"
   ]
  },
  {
   "cell_type": "code",
   "execution_count": null,
   "metadata": {},
   "outputs": [],
   "source": [
    "RF_mean,RF_ret_day,RF_cumsum=long_short_ret(RF,benchmark)\n",
    "XG_mean,XG_ret_day,XG_cumsum=long_short_ret(XGB,benchmark)\n",
    "LR_mean,LR_ret_day,LR_cumsum=long_short_ret(LR,benchmark)\n",
    "Comb_mean,Comb_ret_day,Comb_cumsum=long_short_ret(Combined,benchmark)\n",
    "ANN_mean,ANN_ret_day,ANN_cumsum=long_short_ret(ANN,ANN_bm)"
   ]
  },
  {
   "cell_type": "code",
   "execution_count": null,
   "metadata": {},
   "outputs": [],
   "source": [
    "pd.DataFrame(list(zip(date,RF_ret_day,XG_ret_day,LR_ret_day,Comb_ret_day,RF_cumsum,XG_cumsum,LR_cumsum,Comb_cumsum))).to_csv('portfolioret2.csv')"
   ]
  },
  {
   "cell_type": "code",
   "execution_count": null,
   "metadata": {},
   "outputs": [],
   "source": [
    "pd.DataFrame(list(zip(date_ANN,ANN_ret_day,ANN_cumsum))).to_csv('ANNportfolioret.csv')"
   ]
  },
  {
   "cell_type": "code",
   "execution_count": null,
   "metadata": {},
   "outputs": [],
   "source": [
    "ANN_cumsum"
   ]
  },
  {
   "cell_type": "markdown",
   "metadata": {},
   "source": [
    "Fama-French Regression"
   ]
  },
  {
   "cell_type": "code",
   "execution_count": null,
   "metadata": {},
   "outputs": [],
   "source": [
    "import statsmodels.api as sm"
   ]
  },
  {
   "cell_type": "code",
   "execution_count": null,
   "metadata": {},
   "outputs": [],
   "source": [
    "fama3=fama3.iloc[:,:-1]\n",
    "fama3['Date']=pd.to_datetime(fama3.iloc[:,0],format=\"%d/%m/%Y\")"
   ]
  },
  {
   "cell_type": "code",
   "execution_count": null,
   "metadata": {},
   "outputs": [],
   "source": [
    "def fama_reg(ret,date):\n",
    "    a=pd.DataFrame(ret,index=date)\n",
    "    fama=fama3.merge(a,on='Date')\n",
    "    X=fama[['Mkt-RF','SMB','HML','RMW','CMA']]\n",
    "    X_sm=sm.add_constant(X)\n",
    "    model=sm.OLS(fama[0],X_sm)\n",
    "    results=model.fit()\n",
    "    return results.summary()"
   ]
  },
  {
   "cell_type": "code",
   "execution_count": null,
   "metadata": {
    "scrolled": true
   },
   "outputs": [],
   "source": [
    "fama_reg(ANN_ret_day,date_ANN)"
   ]
  }
 ],
 "metadata": {
  "kernelspec": {
   "display_name": "Python 3",
   "language": "python",
   "name": "python3"
  },
  "language_info": {
   "codemirror_mode": {
    "name": "ipython",
    "version": 3
   },
   "file_extension": ".py",
   "mimetype": "text/x-python",
   "name": "python",
   "nbconvert_exporter": "python",
   "pygments_lexer": "ipython3",
   "version": "3.8.5"
  }
 },
 "nbformat": 4,
 "nbformat_minor": 4
}
